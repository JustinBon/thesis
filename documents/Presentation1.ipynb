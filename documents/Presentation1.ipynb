{
 "cells": [
  {
   "cell_type": "code",
   "execution_count": null,
   "id": "received-chess",
   "metadata": {
    "slideshow": {
     "slide_type": "skip"
    }
   },
   "outputs": [],
   "source": [
    "!jupyter nbconvert Presentation1.ipynb --to slides --post serve"
   ]
  },
  {
   "cell_type": "markdown",
   "id": "secure-pharmacy",
   "metadata": {
    "slideshow": {
     "slide_type": "slide"
    }
   },
   "source": [
    "# About me\n",
    "* 2 year Data science student\n",
    "* Bachelor in Information science\n",
    "* I will be working on the data extraction\n"
   ]
  },
  {
   "cell_type": "markdown",
   "id": "better-parts",
   "metadata": {
    "slideshow": {
     "slide_type": "slide"
    }
   },
   "source": [
    "# What will I do?\n",
    "\n",
    "\n",
    "1. Extract metadata using pattern matching\n",
    "    * Dates\n",
    "    * Locations\n",
    "    * Times\n",
    "    * Subject\n",
    "    * Document type\n",
    "2. Extract named entities with NER models\n",
    "    * People\n",
    "    * Organizations\n",
    "    * Government agencies\n",
    "    * Products\n",
    "    * Monetary values\n",
    "    * ...\n",
    "3. visualize results\n",
    "    * Co-occurrence network"
   ]
  },
  {
   "cell_type": "markdown",
   "id": "fifteen-cowboy",
   "metadata": {
    "slideshow": {
     "slide_type": "slide"
    }
   },
   "source": [
    "# NER\n",
    "1. I will be using the python module spaCy\n",
    "    * Has a build in dutch NER pipeline\n",
    "    * Allows for adding custom training data\n",
    "    * Allows for pattern matching"
   ]
  },
  {
   "cell_type": "markdown",
   "id": "latest-tradition",
   "metadata": {
    "slideshow": {
     "slide_type": "fragment"
    }
   },
   "source": [
    "2. SpaCy's base performance tested on a test set\n",
    "    * Recall = 0.406\n",
    "    * Precision = 0.865\n",
    "    * Accuracy = 0.837"
   ]
  },
  {
   "cell_type": "markdown",
   "id": "adjusted-canal",
   "metadata": {
    "slideshow": {
     "slide_type": "slide"
    }
   },
   "source": [
    "# Requirements\n",
    "* Text from the PDF's\n",
    "* PDF's split into separate documents"
   ]
  }
 ],
 "metadata": {
  "celltoolbar": "Slideshow",
  "kernelspec": {
   "display_name": "Python 3",
   "language": "python",
   "name": "python3"
  },
  "language_info": {
   "codemirror_mode": {
    "name": "ipython",
    "version": 3
   },
   "file_extension": ".py",
   "mimetype": "text/x-python",
   "name": "python",
   "nbconvert_exporter": "python",
   "pygments_lexer": "ipython3",
   "version": "3.6.4"
  }
 },
 "nbformat": 4,
 "nbformat_minor": 5
}
