{
 "cells": [
  {
   "cell_type": "code",
   "execution_count": 1,
   "id": "champion-migration",
   "metadata": {},
   "outputs": [
    {
     "name": "stderr",
     "output_type": "stream",
     "text": [
      "C:\\Users\\justin\\AppData\\Local\\Programs\\Python\\Python36\\lib\\site-packages\\cupy\\_environment.py:214: UserWarning: CUDA path could not be detected. Set CUDA_PATH environment variable if CuPy fails to load.\n",
      "  'CUDA path could not be detected.'\n",
      "C:\\Users\\justin\\AppData\\Local\\Programs\\Python\\Python36\\lib\\site-packages\\cupy\\_environment.py:214: UserWarning: CUDA path could not be detected. Set CUDA_PATH environment variable if CuPy fails to load.\n",
      "  'CUDA path could not be detected.'\n"
     ]
    }
   ],
   "source": [
    "import spacy\n",
    "from spacy import displacy\n",
    "from spacy.matcher import Matcher\n",
    "from spacy.tokens import Span, DocBin\n",
    "\n",
    "from IPython.display import Markdown, display\n",
    "from IPython.display import clear_output\n",
    "\n",
    "from itertools import combinations\n",
    "import pandas as pd\n",
    "from datetime import datetime\n",
    "\n",
    "import os\n",
    "import re\n",
    "import json"
   ]
  },
  {
   "cell_type": "code",
   "execution_count": 12,
   "id": "otherwise-delight",
   "metadata": {},
   "outputs": [],
   "source": [
    "spacy.prefer_gpu()\n",
    "nlp = spacy.load(\"nl_core_news_lg\")\n",
    "df = pd.read_csv('..\\\\data\\\\ocred\\\\files_df.csv', index_col = 0)"
   ]
  },
  {
   "cell_type": "markdown",
   "id": "fourth-issue",
   "metadata": {},
   "source": [
    "## Dates\n",
    "\n",
    "This notebook is used to awnser all rq's about dates. Those are 1.2 and 1.3\n",
    "\n",
    "The first part is to awnser question 1.2"
   ]
  },
  {
   "cell_type": "code",
   "execution_count": 3,
   "id": "suburban-colonial",
   "metadata": {},
   "outputs": [],
   "source": [
    "months = ['januari', 'februari', 'maart', 'april', 'mei', 'juni', 'juli', 'augustus', 'september', 'oktober', 'november', 'december',\n",
    "         'january', 'february', 'march', 'april', 'may', 'june', 'juli', 'august', 'september', 'october', 'november', 'december',\n",
    "         'jan', 'feb', 'mrt', 'apr', 'jun', 'jul', 'aug', 'sep', 'oct', 'nov', 'dec']\n",
    "days = ['maandag', 'dinsdag', 'woensdag', 'donderdag', 'vrijdag', 'zaterdag', 'zondag',\n",
    "       'monday', 'tuesday', 'wednesday', 'thursday', 'friday', 'saturday', 'sunday']\n",
    "sent = ['datum', 'verzonden', 'sent', 'date', 'received']"
   ]
  },
  {
   "cell_type": "code",
   "execution_count": 4,
   "id": "important-jonathan",
   "metadata": {},
   "outputs": [],
   "source": [
    "def printHilight(string):\n",
    "    print('\\x1b[1;31m'+string + ' ' +'\\x1b[0m', end='')\n",
    "    \n",
    "def showMatches(doc, matches, regexMatches):   \n",
    "    indexOfMatches = []\n",
    "    for matchid, start, end in matches:\n",
    "        for i in range(start, end):\n",
    "            indexOfMatches.append(i)\n",
    "            \n",
    "    indexOfMatches = set(indexOfMatches)\n",
    "    \n",
    "    for token in doc:\n",
    "        if token.i in indexOfMatches:\n",
    "            printHilight(str(token.text))\n",
    "        else:\n",
    "            if token.text in regexMatches:\n",
    "                printHilight(str(token.text))\n",
    "            else:\n",
    "                print(token, end=' ')\n",
    "    \n",
    "    return\n",
    "    "
   ]
  },
  {
   "cell_type": "code",
   "execution_count": 5,
   "id": "acoustic-orbit",
   "metadata": {},
   "outputs": [],
   "source": [
    "def validate(dates, sep, pat):\n",
    "    goodDates = []\n",
    "    for date in dates:\n",
    "        date = date.replace(' ', '')\n",
    "        try:\n",
    "            date = date.replace(sep, ' ')\n",
    "            datetime.strptime(date, pat)\n",
    "            goodDates.append(date.replace(' ', sep))\n",
    "        except:\n",
    "            try:\n",
    "                if len(date.split(' ')) == 3 and len(date.split(' ')[2]) == 2:\n",
    "                    datetime.strptime(date, '%d %m %y')\n",
    "                    goodDates.append(date.replace(' ', sep))\n",
    "            except:\n",
    "                pass     \n",
    "    return goodDates\n",
    "            \n",
    "\n",
    "def regexMatcher(text):\n",
    "    results = []\n",
    "    \n",
    "    results += validate(re.findall('[0-3]{0,1}[0-9]\\/[0-1]{0,1}[0-9]', text), '/', '%d %m')\n",
    "\n",
    "    results += validate(re.findall('[0-3]{0,1}[0-9]\\/[0-1]{0,1}[0-9]\\/[0-9]{2,4}', text), '/', '%d %m %Y')\n",
    "\n",
    "    results += validate(re.findall('[0-3]{0,1}[0-9]-[0-1]{0,1}[0-9]', text), '-', '%d %m')\n",
    "\n",
    "    results += validate(re.findall('[0-3]{0,1}[0-9]-[0-1]{0,1}[0-9]-[0-9]{2,4}', text), '-', '%d %m %Y')\n",
    "        \n",
    "    return results"
   ]
  },
  {
   "cell_type": "code",
   "execution_count": 6,
   "id": "periodic-reminder",
   "metadata": {},
   "outputs": [],
   "source": [
    "def inputHandling(message):\n",
    "    while(True):\n",
    "        i = input(message)\n",
    "        if i == 'exit':\n",
    "            return -1\n",
    "        \n",
    "        elif i == '':\n",
    "            return 0\n",
    "        \n",
    "        try:\n",
    "            i = int(i)\n",
    "            return i\n",
    "        \n",
    "        except:\n",
    "            print(\"input number, exit or nothing\")\n",
    "        \n",
    "\n",
    "def evaluate(nlp):\n",
    "    \n",
    "    months = ['januari', 'februari', 'maart', 'april', 'mei', 'juni', 'juli', 'augustus', 'september', 'oktober', 'november', 'december',\n",
    "         'january', 'february', 'march', 'april', 'may', 'june', 'juli', 'august', 'september', 'october', 'november', 'december',\n",
    "         'jan', 'feb', 'mrt', 'apr', 'jun', 'jul', 'aug', 'sep', 'oct', 'nov', 'dec']\n",
    "    days = ['maandag', 'dinsdag', 'woensdag', 'donderdag', 'vrijdag', 'zaterdag', 'zondag',\n",
    "           'monday', 'tuesday', 'wednesday', 'thursday', 'friday', 'saturday', 'sunday',\n",
    "           'ma', 'di', 'wo', 'woe', 'do', 'vrij', 'za', 'zat', 'zo', 'vr']\n",
    "    \n",
    "    datesPattern = [{\"LOWER\" : {\"IN\" : days}, \"OP\" : \"?\"}, \n",
    "           {\"IS_DIGIT\": True}, \n",
    "           {\"LOWER\" : {\"IN\" : months}},\n",
    "           {\"IS_PUNCT\" : True, \"OP\" : \"?\", \"TEXT\":'.'},\n",
    "           {\"IS_DIGIT\": True, \"OP\" : \"?\"}]\n",
    "    matcher = Matcher(nlp.vocab)\n",
    "    matcher.add(\"Dates\", [datesPattern])\n",
    "    \n",
    "    # cor = exact match, inc = match is wrong (wrong bounds or label), mis = missing match, spu = found something that isnt a mactch\n",
    "    if os.path.isfile('..\\\\data\\\\results\\\\dates_results,json'):\n",
    "        with open('..\\\\data\\\\results\\\\dates_results,json') as f:\n",
    "            results = json.load(f)\n",
    "        \n",
    "        pass\n",
    "    else:\n",
    "        results = {\n",
    "            'correct':0,\n",
    "            'incorrect':0,\n",
    "            'missing':0,\n",
    "            'spurious':0,\n",
    "            'america' :0,\n",
    "            'ocr':0,\n",
    "            'oneoff':0,\n",
    "            'other':0\n",
    "        }\n",
    "    \n",
    "    print(results)\n",
    "    cases = ['correct','incorrect','missing','spurious','america','ocr','oneoff','other']\n",
    "    documents = 0\n",
    "    \n",
    "    while(True):\n",
    "        try:\n",
    "            print(sum([results[x] for x in results.keys() if x in cases[:4]]), results['documents'])\n",
    "            sample = df.sample(1)\n",
    "            print(sample.name.values[0], sample.page.values[0], '\\n\\n')\n",
    "            text = sample.text.values[0]\n",
    "            text = re.sub('\\n+', '\\n', text)\n",
    "            text = re.sub(' +', ' ', text)\n",
    "            doc = nlp(text)\n",
    "            matches = matcher(doc)\n",
    "\n",
    "            regexMatches = regexMatcher(text)\n",
    "\n",
    "            showMatches(doc, matches, regexMatches)\n",
    "\n",
    "            for case in cases:\n",
    "                result = inputHandling(case)\n",
    "                if result == -1:\n",
    "                    results['documents'] += documents\n",
    "                    return results\n",
    "                else:\n",
    "                    results[case] += result\n",
    "            documents += 1\n",
    "            clear_output()\n",
    "        except:\n",
    "            print('error')\n",
    "            continue\n",
    "            "
   ]
  },
  {
   "cell_type": "code",
   "execution_count": 9,
   "id": "composed-differential",
   "metadata": {},
   "outputs": [],
   "source": [
    "def calcResults(r):\n",
    "    precision = r['correct'] / (r['correct']+r['incorrect']+r['spurious'])\n",
    "    recall = r['correct'] / (r['correct']+r['incorrect']+r['missing'])\n",
    "    f1 = 2 * ((recall * precision)/(recall + precision))\n",
    "    results['precision'] = precision\n",
    "    results['recall'] = recall\n",
    "    results['f1'] = f1 \n",
    "    print(f'precision = {precision}, recall = {recall}, f1 = {f1}')\n",
    "    return results"
   ]
  },
  {
   "cell_type": "code",
   "execution_count": 14,
   "id": "quick-surgery",
   "metadata": {},
   "outputs": [
    {
     "name": "stdout",
     "output_type": "stream",
     "text": [
      "{'correct': 424, 'incorrect': 9, 'missing': 54, 'spurious': 13, 'america': 30, 'ocr': 19, 'oneoff': 12, 'other': 15, 'documents': 265, 'precision': 0.9506726457399103, 'recall': 0.8706365503080082, 'f1': 0.9088960342979635}\n",
      "500 265\n",
      "d8d9c5015c9ceb952052f29e1a27ed1f_openbaar-te-maken-documenten-deel-3 151 \n",
      "\n",
      "\n",
      "Document 183 \n",
      " \n",
      " \n",
      " \n",
      " Van : 1020 \n",
      " Verzonden : \u001b[1;31mmaandag \u001b[0m\u001b[1;31m15 \u001b[0m\u001b[1;31mjuni \u001b[0m\u001b[1;31m2020 \u001b[0m15:43 \n",
      " Aan : HAGEM crisisteam corona D ! \n",
      " e \n",
      " e \n",
      " e \n",
      " e \n",
      " m e \n",
      " e \n",
      " e \n",
      " e \n",
      " e \n",
      " e \n",
      " I \n",
      " Onderwerp : Verslag crisisteam \u001b[1;31m15 \u001b[0m\u001b[1;31mjuni \u001b[0m\u001b[1;31m2020 \u001b[0m\n",
      " Bijlagen : Verslag crisisteam \u001b[1;31m15 \u001b[0m\u001b[1;31mjuni \u001b[0m2020.docx \n",
      " Beste collega'’s , \n",
      " Hierbij het verslag van het laatste Crisisteam . \n",
      " Hartelijke groet , \n",
      " mr , \n",
      " Secretaris Crisisorganisatie Corona DJI \n",
      " Beleidsadviseur Psychische Zorg \n",
      " Dienst Justiriële Inrichtingen \n",
      " Ministerie van Justitie en Veiligheid \n",
      " \n",
      " Nederlands Instituut voor Forensische Psychiatrie en Psychologie ( NIFP ) \n",
      " Herman Gorterstraat 5 , 3511 EW Utrecht | 7 ° etage \n",
      " Postbus 13369 3507 LJ Utrecht \n",
      " ! S \n",
      " T A \n",
      " EOS ! i ninius . l \n",
      " correctexit\n",
      "precision = 0.9506726457399103, recall = 0.8706365503080082, f1 = 0.9088960342979635\n"
     ]
    }
   ],
   "source": [
    "results = evaluate(nlp)\n",
    "results = calcResults(results)\n",
    "\n",
    "with open('..\\\\data\\\\results\\\\dates_results,json', 'w') as f:\n",
    "    json.dump(results, f)\n"
   ]
  },
  {
   "cell_type": "code",
   "execution_count": 15,
   "id": "occupied-banner",
   "metadata": {},
   "outputs": [
    {
     "data": {
      "text/plain": [
       "{'correct': 424,\n",
       " 'incorrect': 9,\n",
       " 'missing': 54,\n",
       " 'spurious': 13,\n",
       " 'america': 30,\n",
       " 'ocr': 19,\n",
       " 'oneoff': 12,\n",
       " 'other': 15,\n",
       " 'documents': 265,\n",
       " 'precision': 0.9506726457399103,\n",
       " 'recall': 0.8706365503080082,\n",
       " 'f1': 0.9088960342979635}"
      ]
     },
     "execution_count": 15,
     "metadata": {},
     "output_type": "execute_result"
    }
   ],
   "source": [
    "results"
   ]
  },
  {
   "cell_type": "markdown",
   "id": "biblical-argentina",
   "metadata": {},
   "source": [
    "## conclusion\n",
    "\n",
    "removed all access newlines and spaces\n",
    "\n",
    "Part of the reason not all dates were caught was an oversight with american date formats. To validate the if a found match is actually a date, it needs a date format to compare the match to. Only the dd-mm-yyyy format was checked and not the american format of mm-dd-yyyy with the month before the year. This means it excludes dates like 04-14-2022 as this cannot be a date in the dd-mm-yyyy format because there obviously isn't a 14th month. In the american system this is just april 14th 2022.\n",
    "\n",
    "Now there are also some dates that weren't found that should have been found that had nothing to do with american formats. Most of these are in a weird format or have extra spaces in between the number: \"woensdag 27/5\" and \"3 -nov-2019\" are examples of this. Also there are false positives that are actually false positives. Most of these are in the \"31/12\" format. These could all be actual dates but they could aslo be two random numbers seperated by a forward slash.\n",
    "\n",
    "Another reason for not finding some dates is OCR mistakes. For example, in one case the date that was supposed to be found was \"5/12/2021\" but in the OCR process that string was read as \"542/2021\" where the \"/\" and \"1\" were seen as one character, a 4.\n",
    "\n",
    "Missed dates in file names were excluded from the evaluation because these are not the dates your looking for\n",
    "\n",
    "precision = 0.9197860962566845, recall = 0.8911917098445595, f1 = 0.9052631578947369"
   ]
  },
  {
   "cell_type": "markdown",
   "id": "fourth-methodology",
   "metadata": {},
   "source": [
    "These next cells are for rq 1.3"
   ]
  },
  {
   "cell_type": "code",
   "execution_count": null,
   "id": "under-sector",
   "metadata": {},
   "outputs": [],
   "source": [
    "sent = ['datum', 'verzonden', 'sent', 'date']\n",
    "\n",
    "Pattern = [{\"LOWER\" : {\"IN\" : sent}},\n",
    "           {\"IS_PUNCT\" : True, \"OP\" : \"?\"},\n",
    "           {\"LOWER\" : {\"IN\" : days}, \"OP\" : \"?\"}, \n",
    "           {\"IS_DIGIT\": True}, \n",
    "           {\"LOWER\" : {\"IN\" : months}},\n",
    "           {\"IS_DIGIT\": True, \"OP\" : \"?\"}]\n",
    "\n",
    "# also use regex for the american email date format thingy"
   ]
  }
 ],
 "metadata": {
  "kernelspec": {
   "display_name": "Python 3.6.4 64-bit",
   "language": "python",
   "name": "python36464bite3e9fea8e7cf4572b612ccf79ec495cf"
  },
  "language_info": {
   "codemirror_mode": {
    "name": "ipython",
    "version": 3
   },
   "file_extension": ".py",
   "mimetype": "text/x-python",
   "name": "python",
   "nbconvert_exporter": "python",
   "pygments_lexer": "ipython3",
   "version": "3.6.4"
  }
 },
 "nbformat": 4,
 "nbformat_minor": 5
}
