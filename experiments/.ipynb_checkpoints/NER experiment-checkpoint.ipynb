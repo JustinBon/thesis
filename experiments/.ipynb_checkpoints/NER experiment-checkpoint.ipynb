{
 "cells": [
  {
   "cell_type": "code",
   "execution_count": 30,
   "id": "straight-factory",
   "metadata": {},
   "outputs": [
    {
     "data": {
      "text/plain": [
       "False"
      ]
     },
     "execution_count": 30,
     "metadata": {},
     "output_type": "execute_result"
    }
   ],
   "source": [
    "import spacy\n",
    "from spacy.matcher import Matcher\n",
    "spacy.prefer_gpu()"
   ]
  },
  {
   "cell_type": "code",
   "execution_count": 39,
   "id": "interesting-earthquake",
   "metadata": {},
   "outputs": [
    {
     "name": "stdout",
     "output_type": "stream",
     "text": [
      "10 CARDINAL\n",
      "Trommelen PERSON\n",
      "Jorgen PERSON\n",
      "Dienstpostbus WORK_OF_ART\n",
      "Wob Shell WORK_OF_ART\n",
      "dinsdag DATE\n",
      "13 augustus 2019 DATE\n",
      "10:42:00 DATE\n",
      "NO WORK_OF_ART\n",
      "maart DATE\n",
      "Jorgen PERSON\n",
      "week DATE\n",
      "Shell ORG\n",
      "Shell ORG\n",
      "VNO-NCW ORG\n",
      "Shell ORG\n",
      "Charter Diversiteit ORG\n",
      "Dutch Government ORG\n",
      "Workplace pride EVENT\n",
      "Shell ORG\n",
      "ECHO ORG\n",
      "NS ORG\n",
      "KPMG ORG\n",
      "Shell ORG\n",
      "Shell ORG\n",
      "ECHO Award ORG\n",
      "Shell ORG\n",
      "ECHO ORG\n",
      "Museum Boerhave ORG\n",
      "15.000 euro MONEY\n",
      "Shell ORG\n",
      "Discovery Festival EVENT\n",
      "Museum Boerhave ORG\n",
      "Shell ORG\n",
      "Stichting Van Gogh Museum ORG\n",
      "Senior Inspection support ORG\n",
      "Shell ORG\n",
      "Stichting Naturalis Biodiversity Center ORG\n",
      "Shell ORG\n",
      "Stichting Koninklijk Concertgebouworkest ORG\n",
      "Shell ORG\n",
      "Shell ORG\n",
      "Regionaal Investeringsfonds ORG\n",
      "Shell ORG\n",
      "SBB ORG\n",
      "Shell ORG\n",
      "Bedrijfstakgroep Techniek ORG\n",
      "SBB ORG\n",
      "Marjan van Loon PERSON\n",
      "Christiaan Huygens-prijs PERSON\n",
      "Marjan van Loon PERSON\n"
     ]
    }
   ],
   "source": [
    "path = r'C:\\Users\\justin\\OneDrive - UvA\\Studie\\Data Science\\Thesis\\OCR test\\Definitieve+set+documenten+Wob-verzoek+inzake+afhandeling+Shell+2020-012\\page 13.txt'\n",
    "nlp = spacy.load(\"nl_core_news_lg\")\n",
    "\n",
    "with open(path, 'r') as f:\n",
    "    testString = f.read()\n",
    "        \n",
    "testString = testString.replace('\\n', ' ')\n",
    "testString\n",
    "doc = nlp(testString)\n",
    "for ent in doc.ents:\n",
    "    # Print the entity text and its label\n",
    "    print(ent.text, ent.label_)"
   ]
  },
  {
   "cell_type": "code",
   "execution_count": 37,
   "id": "committed-given",
   "metadata": {},
   "outputs": [
    {
     "name": "stdout",
     "output_type": "stream",
     "text": [
      "5973993028671576095 Wetten 218 220 artikelen 34\n",
      "5973993028671576095 Wetten 218 221 artikelen 34,\n",
      "5973993028671576095 Wetten 218 222 artikelen 34, vierde\n",
      "5973993028671576095 Wetten 218 223 artikelen 34, vierde lid\n",
      "5973993028671576095 Wetten 363 365 artikelen 4\n",
      "5973993028671576095 Wetten 375 377 artikelen 172\n",
      "5973993028671576095 Wetten 400 402 artikelen 11\n",
      "5973993028671576095 Wetten 400 403 artikelen 11,\n",
      "5973993028671576095 Wetten 424 426 artikelen 5\n"
     ]
    }
   ],
   "source": [
    "matcher = Matcher(nlp.vocab)\n",
    "\n",
    "pattern = [{\"LOWER\": \"artikelen\"},  {\"IS_DIGIT\": True}, {\"TEXT\":\",\", \"OP\":\"?\"}, {\"POS\":\"ADJ\", \"OP\":\"?\"}, {\"TEXT\":\"lid\", \"OP\":\"?\"}]\n",
    "matcher.add(\"Wetten\", [pattern])\n",
    "\n",
    "matches = matcher(doc)\n",
    "for match_id, start, end in matches:\n",
    "    string_id = nlp.vocab.strings[match_id]  # Get string representation\n",
    "    span = doc[start:end]  # The matched span\n",
    "    print(match_id, string_id, start, end, span.text)"
   ]
  },
  {
   "cell_type": "code",
   "execution_count": 28,
   "id": "clinical-photography",
   "metadata": {},
   "outputs": [
    {
     "data": {
      "text/plain": [
       "'determiner'"
      ]
     },
     "execution_count": 28,
     "metadata": {},
     "output_type": "execute_result"
    }
   ],
   "source": [
    "spacy.explain('DET')"
   ]
  },
  {
   "cell_type": "code",
   "execution_count": null,
   "id": "reserved-livestock",
   "metadata": {},
   "outputs": [],
   "source": []
  }
 ],
 "metadata": {
  "kernelspec": {
   "display_name": "Python 3",
   "language": "python",
   "name": "python3"
  },
  "language_info": {
   "codemirror_mode": {
    "name": "ipython",
    "version": 3
   },
   "file_extension": ".py",
   "mimetype": "text/x-python",
   "name": "python",
   "nbconvert_exporter": "python",
   "pygments_lexer": "ipython3",
   "version": "3.6.4"
  }
 },
 "nbformat": 4,
 "nbformat_minor": 5
}
