{
 "cells": [
  {
   "cell_type": "code",
   "execution_count": 1,
   "id": "cooked-swift",
   "metadata": {},
   "outputs": [],
   "source": [
    "import os\n",
    "import PyPDF2\n",
    "import pandas\n",
    "\n",
    "base = r'F:\\Data files\\Master thesis\\\\'"
   ]
  },
  {
   "cell_type": "code",
   "execution_count": 8,
   "id": "loose-healthcare",
   "metadata": {},
   "outputs": [
    {
     "data": {
      "text/plain": [
       "(119, 368)"
      ]
     },
     "execution_count": 8,
     "metadata": {},
     "output_type": "execute_result"
    }
   ],
   "source": [
    "unique = set([item.split('_')[0] for item in os.listdir(base)])\n",
    "\n",
    "len(unique), len(os.listdir(base))"
   ]
  },
  {
   "cell_type": "code",
   "execution_count": 9,
   "id": "polyphonic-twins",
   "metadata": {},
   "outputs": [
    {
     "name": "stderr",
     "output_type": "stream",
     "text": [
      "PdfReadWarning: Superfluous whitespace found in object header b'1' b'0' [pdf.py:1666]\n",
      "PdfReadWarning: Superfluous whitespace found in object header b'2' b'0' [pdf.py:1666]\n",
      "PdfReadWarning: Superfluous whitespace found in object header b'3' b'0' [pdf.py:1666]\n",
      "PdfReadWarning: Superfluous whitespace found in object header b'20' b'0' [pdf.py:1666]\n",
      "PdfReadWarning: Xref table not zero-indexed. ID numbers for objects will be corrected. [pdf.py:1736]\n",
      "PdfReadWarning: Superfluous whitespace found in object header b'23' b'0' [pdf.py:1666]\n",
      "PdfReadWarning: Superfluous whitespace found in object header b'27' b'0' [pdf.py:1666]\n",
      "PdfReadWarning: Superfluous whitespace found in object header b'31' b'0' [pdf.py:1666]\n",
      "PdfReadWarning: Superfluous whitespace found in object header b'34' b'0' [pdf.py:1666]\n",
      "PdfReadWarning: Superfluous whitespace found in object header b'38' b'0' [pdf.py:1666]\n",
      "PdfReadWarning: Superfluous whitespace found in object header b'42' b'0' [pdf.py:1666]\n",
      "PdfReadWarning: Superfluous whitespace found in object header b'46' b'0' [pdf.py:1666]\n",
      "PdfReadWarning: Superfluous whitespace found in object header b'50' b'0' [pdf.py:1666]\n",
      "PdfReadWarning: Superfluous whitespace found in object header b'21' b'0' [pdf.py:1666]\n",
      "PdfReadWarning: Superfluous whitespace found in object header b'24' b'0' [pdf.py:1666]\n",
      "PdfReadWarning: Superfluous whitespace found in object header b'25' b'0' [pdf.py:1666]\n",
      "PdfReadWarning: Superfluous whitespace found in object header b'28' b'0' [pdf.py:1666]\n",
      "PdfReadWarning: Superfluous whitespace found in object header b'29' b'0' [pdf.py:1666]\n",
      "PdfReadWarning: Superfluous whitespace found in object header b'32' b'0' [pdf.py:1666]\n",
      "PdfReadWarning: Superfluous whitespace found in object header b'35' b'0' [pdf.py:1666]\n",
      "PdfReadWarning: Superfluous whitespace found in object header b'36' b'0' [pdf.py:1666]\n",
      "PdfReadWarning: Superfluous whitespace found in object header b'39' b'0' [pdf.py:1666]\n",
      "PdfReadWarning: Superfluous whitespace found in object header b'40' b'0' [pdf.py:1666]\n",
      "PdfReadWarning: Superfluous whitespace found in object header b'43' b'0' [pdf.py:1666]\n",
      "PdfReadWarning: Superfluous whitespace found in object header b'44' b'0' [pdf.py:1666]\n",
      "PdfReadWarning: Superfluous whitespace found in object header b'47' b'0' [pdf.py:1666]\n",
      "PdfReadWarning: Superfluous whitespace found in object header b'48' b'0' [pdf.py:1666]\n",
      "PdfReadWarning: Superfluous whitespace found in object header b'51' b'0' [pdf.py:1666]\n"
     ]
    },
    {
     "name": "stdout",
     "output_type": "stream",
     "text": [
      "367\n",
      "21.804073653364053\n"
     ]
    }
   ],
   "source": [
    "files = {}\n",
    "oserror = []\n",
    "readerror = []\n",
    "\n",
    "for item in os.listdir(base):\n",
    "\n",
    "    if os.path.isdir(base + item):\n",
    "        continue\n",
    "    files[item] = {}\n",
    "    files[item]['size'] = os.path.getsize(base + item) \n",
    "    files[item]['pages'] = 0 \n",
    "    files[item]['chars'] = 0\n",
    "    files[item]['words'] = 0\n",
    "    \n",
    "    try:\n",
    "        with open(base + item, 'rb') as f:\n",
    "            reader = PyPDF2.PdfFileReader(f)\n",
    "\n",
    "            for page in reader.pages:\n",
    "                text = page.extractText()\n",
    "                text = text.replace('\\n', ' ')\n",
    "                files[item]['pages'] += 1\n",
    "                files[item]['chars'] += len(text)\n",
    "                files[item]['words'] += len(text.split())\n",
    "                \n",
    "\n",
    "    except OSError:\n",
    "        oserror.append(item)\n",
    "        continue\n",
    "    except:\n",
    "        readerror.append(item)\n",
    "\n",
    "    \n",
    "    \n",
    "# checks if the files in inventaris lijst folder all bestaan\n",
    "# print(len(files))\n",
    "# for item in os.listdir(base + 'Inventarislijsten'):\n",
    "#     files.append(item)\n",
    "    \n",
    "# print(len(files))\n",
    "# files = set(files)\n",
    "\n",
    "print(len(files))\n",
    "\n",
    "print(sum([files[x]['size'] for x in files]) / len(files) / 1024**2)"
   ]
  },
  {
   "cell_type": "code",
   "execution_count": 10,
   "id": "superb-cookbook",
   "metadata": {},
   "outputs": [
    {
     "name": "stdout",
     "output_type": "stream",
     "text": [
      "0427668d693a03d94e02b67ac2c58106_bijlage-1-relevante-artikelen-uit-de-wob.pdf\n",
      "0427668d693a03d94e02b67ac2c58106_bijlage-2-inventarislijst-wob-goodbye-2020.pdf\n",
      "0427668d693a03d94e02b67ac2c58106_bijlage-3-documenten-wob-goodbye-2020.pdf\n",
      "0427668d693a03d94e02b67ac2c58106_wob-besluit-goodbye-2020.pdf\n",
      "30474038b01b8076945bc8efa171d6b0_bijlage-11-van-15-bij-tweede-deelbesluit-wob-verzoek-covid-19-iccb-stukken.pdf\n",
      "30474038b01b8076945bc8efa171d6b0_bijlage-13-van-15-bij-tweede-deelbesluit-wob-verzoek-covid-19-iccb-stukken.pdf\n",
      "30474038b01b8076945bc8efa171d6b0_bijlage-15-van-15-bij-tweede-deelbesluit-wob-verzoek-covid-19-iccb-stukken.pdf\n",
      "561b8b6e6eb90efbfe4649fc9a5f2e05_besluit-en-lijst-van-documenten.pdf\n",
      "561b8b6e6eb90efbfe4649fc9a5f2e05_openbaar-gemaakte-documenten-1-19.pdf\n",
      "6762214604a58986abf9cc852b4202e9_bijlagen-deel-2-bij-besluit-wob-verzoek-over-covid-19.pdf\n",
      "6762214604a58986abf9cc852b4202e9_bijlagen-deel-3-bij-besluit-wob-verzoek-over-covid-19.pdf\n",
      "6762214604a58986abf9cc852b4202e9_bijlagen-deel-4-bij-besluit-wob-verzoek-over-covid-19.pdf\n",
      "6762214604a58986abf9cc852b4202e9_bijlagen-deel-5-bij-besluit-wob-verzoek-over-covid-19.pdf\n",
      "da92c3ee15c6bd19686696fe88c6906f_besluit-wob-verzoek-np-onderwijs.pdf\n",
      "da92c3ee15c6bd19686696fe88c6906f_bijlage-2-inventarislijst-wob-verzoek-inz-np-onderwijs.pdf\n",
      "da92c3ee15c6bd19686696fe88c6906f_bijlage-3-tijdlijn-totstandkoming-np-onderwijs-voor-wob-verzoek.pdf\n",
      "da92c3ee15c6bd19686696fe88c6906f_definitieve-set-documenten-inz-np-onderwijs-deel-1.pdf\n",
      "da92c3ee15c6bd19686696fe88c6906f_definitieve-set-documenten-inz-np-onderwijs-deel-2.pdf\n",
      "da92c3ee15c6bd19686696fe88c6906f_definitieve-set-documenten-inz-np-onderwijs-deel-3.pdf\n",
      "da92c3ee15c6bd19686696fe88c6906f_definitieve-set-documenten-inz-np-onderwijs-deel-5.pdf\n",
      "df75b6c01539a9a9670e85d6e4527dde_besluit.pdf\n",
      "df75b6c01539a9a9670e85d6e4527dde_documenten.pdf\n",
      "df75b6c01539a9a9670e85d6e4527dde_inventarislijst.pdf\n",
      "eb375aba46cb1fb46f895c04c1744906_stukken-uitgestelde-verstrekking.pdf\n",
      "f0a3fd8ea08f26d26fd059b0bf988127_besluit-wob-verzoek-aangaande-overleggen-vws-in-de-periode-februari-2020.pdf\n",
      "f0a3fd8ea08f26d26fd059b0bf988127_samengestelde-documenten-overleg-vws-kern.pdf\n",
      "f7d2c584e02753d4c615d8a3aad375d7_besluit.pdf\n",
      "f7d2c584e02753d4c615d8a3aad375d7_inventarislijst.pdf\n",
      "28\n"
     ]
    }
   ],
   "source": [
    "for x in oserror:\n",
    "    print(x)\n",
    "    \n",
    "print(len(oserror))"
   ]
  },
  {
   "cell_type": "code",
   "execution_count": 11,
   "id": "virtual-pulse",
   "metadata": {},
   "outputs": [
    {
     "name": "stdout",
     "output_type": "stream",
     "text": [
      "34828b70c527f7eaa9f00a6f0b580bd7_besluit-op-wob-verzoek-1-voor-publicatie.pdf\n",
      "34828b70c527f7eaa9f00a6f0b580bd7_besluit-op-wob-verzoek-2-voor-publicatie.pdf\n",
      "34828b70c527f7eaa9f00a6f0b580bd7_besluit-op-wob-verzoek-3-voor-publicatie.pdf\n",
      "34828b70c527f7eaa9f00a6f0b580bd7_besluit-op-wob-verzoek-4-voor-publicatie.pdf\n",
      "34828b70c527f7eaa9f00a6f0b580bd7_besluit-op-wob-verzoek-5-voor-publicatie.pdf\n",
      "388491f7f645df30409bec6ef461792b_02-antwoorden-kamervragen-sgp.pdf\n",
      "388491f7f645df30409bec6ef461792b_03-inventarislijst.pdf\n",
      "388491f7f645df30409bec6ef461792b_04-bijlagen-bij-wob-besluit.pdf\n",
      "388491f7f645df30409bec6ef461792b_besluit-op-wob-verzoek-over-aantal-aanwezigen-in-kerkelijke-gebouwen.pdf\n",
      "561b8b6e6eb90efbfe4649fc9a5f2e05_openbaar-gemaakte-documenten-20-29.pdf\n",
      "e184824227ff92c0ba8d838ea497a5b6_besluit-op-wob-verzoek-over-optreden-minister-voor-rechtsbescherming-in-uitzending-op1-van-18-mei-2020.pdf\n",
      "11\n"
     ]
    }
   ],
   "source": [
    "for x in readerror:\n",
    "    print(x)\n",
    "    \n",
    "print(len(readerror))"
   ]
  },
  {
   "cell_type": "code",
   "execution_count": 12,
   "id": "sunrise-beverage",
   "metadata": {},
   "outputs": [
    {
     "name": "stdout",
     "output_type": "stream",
     "text": [
      "Empty files 144\n",
      "Words per page 30.39322033898305\n",
      "Words per file 3739.183856502242\n",
      "words: 833838, pages: 27435\n",
      "223 27435\n"
     ]
    }
   ],
   "source": [
    "empty = 0\n",
    "totalwords = 0\n",
    "totalpages = 0\n",
    "\n",
    "for f in files:\n",
    "    if files[f]['words'] == 0:\n",
    "        empty += 1\n",
    "        continue\n",
    "    \n",
    "    totalwords += files[f]['words']\n",
    "    totalpages += files[f]['pages']\n",
    "\n",
    "print(f'Empty files {empty}')\n",
    "print(f'Words per page {totalwords/totalpages}')\n",
    "print(f'Words per file {totalwords/(len(files) - empty)}')\n",
    "print(f'words: {totalwords}, pages: {totalpages}')\n",
    "print(len(files) - empty, totalpages)"
   ]
  },
  {
   "cell_type": "code",
   "execution_count": 13,
   "id": "czech-threat",
   "metadata": {},
   "outputs": [
    {
     "data": {
      "text/plain": [
       "833838"
      ]
     },
     "execution_count": 13,
     "metadata": {},
     "output_type": "execute_result"
    }
   ],
   "source": [
    "totalwords"
   ]
  },
  {
   "cell_type": "code",
   "execution_count": 36,
   "id": "educated-receiver",
   "metadata": {},
   "outputs": [
    {
     "data": {
      "text/plain": [
       "32576"
      ]
     },
     "execution_count": 36,
     "metadata": {},
     "output_type": "execute_result"
    }
   ],
   "source": [
    "sum([files[x]['pages'] for x in files])"
   ]
  },
  {
   "cell_type": "code",
   "execution_count": null,
   "id": "spread-attempt",
   "metadata": {},
   "outputs": [],
   "source": []
  }
 ],
 "metadata": {
  "kernelspec": {
   "display_name": "Python 3.6.4 64-bit",
   "language": "python",
   "name": "python36464bite3e9fea8e7cf4572b612ccf79ec495cf"
  },
  "language_info": {
   "codemirror_mode": {
    "name": "ipython",
    "version": 3
   },
   "file_extension": ".py",
   "mimetype": "text/x-python",
   "name": "python",
   "nbconvert_exporter": "python",
   "pygments_lexer": "ipython3",
   "version": "3.6.4"
  }
 },
 "nbformat": 4,
 "nbformat_minor": 5
}
