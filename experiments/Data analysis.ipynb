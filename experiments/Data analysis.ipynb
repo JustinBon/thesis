{
 "cells": [
  {
   "cell_type": "code",
   "execution_count": 12,
   "id": "stable-tuner",
   "metadata": {},
   "outputs": [],
   "source": [
    "import os\n",
    "import PyPDF2\n",
    "import matplotlib.pyplot as plt\n",
    "import statistics\n",
    "import seaborn as sns\n",
    "import pandas as pd\n",
    "base = r'F:\\\\Data files\\\\Master thesis\\\\PDFS\\\\'"
   ]
  },
  {
   "cell_type": "code",
   "execution_count": 13,
   "id": "recreational-excellence",
   "metadata": {},
   "outputs": [
    {
     "data": {
      "text/plain": [
       "(119, 368)"
      ]
     },
     "execution_count": 13,
     "metadata": {},
     "output_type": "execute_result"
    }
   ],
   "source": [
    "unique = set([item.split('_')[0] for item in os.listdir(base)])\n",
    "\n",
    "len(unique), len(os.listdir(base))"
   ]
  },
  {
   "cell_type": "code",
   "execution_count": 14,
   "id": "compressed-static",
   "metadata": {},
   "outputs": [
    {
     "name": "stderr",
     "output_type": "stream",
     "text": [
      "UserWarning: Page.extractText is deprecated and will be removed in PyPDF2 2.0.0. Use Page.extract_text instead. [_page.py:1003]\n",
      "PdfReadWarning: Superfluous whitespace found in object header b'1' b'0' [_reader.py:1235]\n",
      "PdfReadWarning: Superfluous whitespace found in object header b'2' b'0' [_reader.py:1235]\n",
      "PdfReadWarning: Superfluous whitespace found in object header b'3' b'0' [_reader.py:1235]\n",
      "PdfReadWarning: Superfluous whitespace found in object header b'20' b'0' [_reader.py:1235]\n",
      "PdfReadWarning: Xref table not zero-indexed. ID numbers for objects will be corrected. [_reader.py:1453]\n",
      "PdfReadWarning: Superfluous whitespace found in object header b'23' b'0' [_reader.py:1235]\n",
      "PdfReadWarning: Superfluous whitespace found in object header b'27' b'0' [_reader.py:1235]\n",
      "PdfReadWarning: Superfluous whitespace found in object header b'31' b'0' [_reader.py:1235]\n",
      "PdfReadWarning: Superfluous whitespace found in object header b'34' b'0' [_reader.py:1235]\n",
      "PdfReadWarning: Superfluous whitespace found in object header b'38' b'0' [_reader.py:1235]\n",
      "PdfReadWarning: Superfluous whitespace found in object header b'42' b'0' [_reader.py:1235]\n",
      "PdfReadWarning: Superfluous whitespace found in object header b'46' b'0' [_reader.py:1235]\n",
      "PdfReadWarning: Superfluous whitespace found in object header b'50' b'0' [_reader.py:1235]\n",
      "PdfReadWarning: Superfluous whitespace found in object header b'21' b'0' [_reader.py:1235]\n",
      "PdfReadWarning: Superfluous whitespace found in object header b'24' b'0' [_reader.py:1235]\n",
      "PdfReadWarning: Superfluous whitespace found in object header b'25' b'0' [_reader.py:1235]\n",
      "PdfReadWarning: Superfluous whitespace found in object header b'28' b'0' [_reader.py:1235]\n",
      "PdfReadWarning: Superfluous whitespace found in object header b'29' b'0' [_reader.py:1235]\n",
      "PdfReadWarning: Superfluous whitespace found in object header b'32' b'0' [_reader.py:1235]\n",
      "PdfReadWarning: Superfluous whitespace found in object header b'35' b'0' [_reader.py:1235]\n",
      "PdfReadWarning: Superfluous whitespace found in object header b'36' b'0' [_reader.py:1235]\n",
      "PdfReadWarning: Superfluous whitespace found in object header b'39' b'0' [_reader.py:1235]\n",
      "PdfReadWarning: Superfluous whitespace found in object header b'40' b'0' [_reader.py:1235]\n",
      "PdfReadWarning: Superfluous whitespace found in object header b'43' b'0' [_reader.py:1235]\n",
      "PdfReadWarning: Superfluous whitespace found in object header b'44' b'0' [_reader.py:1235]\n",
      "PdfReadWarning: Superfluous whitespace found in object header b'47' b'0' [_reader.py:1235]\n",
      "PdfReadWarning: Superfluous whitespace found in object header b'48' b'0' [_reader.py:1235]\n",
      "PdfReadWarning: Superfluous whitespace found in object header b'51' b'0' [_reader.py:1235]\n"
     ]
    },
    {
     "name": "stdout",
     "output_type": "stream",
     "text": [
      "367\n",
      "0.0007937766550672152\n"
     ]
    }
   ],
   "source": [
    "def countUnique(text, unique):\n",
    "    text = text.replace('\\n', ' ')\n",
    "    words = text.split(' ')\n",
    "    \n",
    "    for word in words:\n",
    "        if word in unique:\n",
    "            pass\n",
    "        else:\n",
    "            unique[word] = 0\n",
    "    return unique\n",
    "    \n",
    "\n",
    "files = {}\n",
    "oserror = []\n",
    "readerror = []\n",
    "\n",
    "for item in os.listdir(base):\n",
    "\n",
    "    if os.path.isdir(base + item):\n",
    "        continue\n",
    "    files[item] = {}\n",
    "    files[item]['unique'] = 0\n",
    "    files[item]['pages'] = 0 \n",
    "    files[item]['chars'] = 0\n",
    "    files[item]['words'] = 0\n",
    "    \n",
    "    try:\n",
    "        with open(base + item, 'rb') as f:\n",
    "            reader = PyPDF2.PdfFileReader(f)\n",
    "            \n",
    "            uniqueWords = {}\n",
    "            for page in reader.pages:\n",
    "                text = page.extractText()\n",
    "                text = text.replace('\\n', ' ')\n",
    "                files[item]['pages'] += 1\n",
    "                files[item]['chars'] += len(text)\n",
    "                files[item]['words'] += len(text.split())\n",
    "                uniqueWords = countUnique(text, uniqueWords)\n",
    "            files[item]['unique'] = len(uniqueWords)\n",
    "            \n",
    "                \n",
    "\n",
    "    except OSError:\n",
    "        oserror.append(item)\n",
    "        continue\n",
    "    except:\n",
    "        readerror.append(item)\n",
    "\n",
    "    \n",
    "    \n",
    "# checks if the files in inventaris lijst folder all bestaan\n",
    "# print(len(files))\n",
    "# for item in os.listdir(base + 'Inventarislijsten'):\n",
    "#     files.append(item)\n",
    "    \n",
    "# print(len(files))\n",
    "# files = set(files)\n",
    "\n",
    "print(len(files))\n",
    "\n",
    "print(sum([files[x]['unique'] for x in files]) / len(files) / 1024**2)"
   ]
  },
  {
   "cell_type": "code",
   "execution_count": 15,
   "id": "moved-oasis",
   "metadata": {},
   "outputs": [
    {
     "name": "stdout",
     "output_type": "stream",
     "text": [
      "Empty files 135\n",
      "Words per page 64.06223589466211\n",
      "Words per file 8168.211206896552\n",
      "words: 1895025, pages: 29581\n",
      "232 29581\n"
     ]
    }
   ],
   "source": [
    "empty = 0\n",
    "totalwords = 0\n",
    "totalpages = 0\n",
    "\n",
    "for f in files:\n",
    "    if files[f]['words'] == 0:\n",
    "        empty += 1\n",
    "        continue\n",
    "    \n",
    "    totalwords += files[f]['words']\n",
    "    totalpages += files[f]['pages']\n",
    "\n",
    "print(f'Empty files {empty}')\n",
    "print(f'Words per page {totalwords/totalpages}')\n",
    "print(f'Words per file {totalwords/(len(files) - empty)}')\n",
    "print(f'words: {totalwords}, pages: {totalpages}')\n",
    "print(len(files) - empty, totalpages)"
   ]
  },
  {
   "cell_type": "code",
   "execution_count": 16,
   "id": "lasting-emerald",
   "metadata": {},
   "outputs": [
    {
     "data": {
      "text/plain": [
       "(array([324.,  17.,   6.,   8.,   4.,   2.,   3.,   0.,   1.,   2.]),\n",
       " array([    0. ,  1630.8,  3261.6,  4892.4,  6523.2,  8154. ,  9784.8,\n",
       "        11415.6, 13046.4, 14677.2, 16308. ]),\n",
       " <BarContainer object of 10 artists>)"
      ]
     },
     "execution_count": 16,
     "metadata": {},
     "output_type": "execute_result"
    },
    {
     "data": {
      "image/png": "[encoded data removed]",
      "text/plain": [
       "<Figure size 432x288 with 1 Axes>"
      ]
     },
     "metadata": {
      "needs_background": "light"
     },
     "output_type": "display_data"
    }
   ],
   "source": [
    "unique = [files[x]['unique'] for x in files]\n",
    "plt.hist(unique)"
   ]
  },
  {
   "cell_type": "code",
   "execution_count": 17,
   "id": "prospective-disposal",
   "metadata": {},
   "outputs": [
    {
     "name": "stderr",
     "output_type": "stream",
     "text": [
      "FutureWarning: Pass the following variable as a keyword arg: x. From version 0.12, the only valid positional argument will be `data`, and passing other arguments without an explicit keyword will result in an error or misinterpretation. [_decorators.py:36]\n"
     ]
    },
    {
     "data": {
      "text/plain": [
       "<AxesSubplot:>"
      ]
     },
     "execution_count": 17,
     "metadata": {},
     "output_type": "execute_result"
    },
    {
     "data": {
      "image/png": "[encoded data removed]",
      "text/plain": [
       "<Figure size 432x288 with 1 Axes>"
      ]
     },
     "metadata": {
      "needs_background": "light"
     },
     "output_type": "display_data"
    }
   ],
   "source": [
    "sns.boxplot(unique)"
   ]
  },
  {
   "cell_type": "code",
   "execution_count": 18,
   "id": "cardiovascular-manner",
   "metadata": {},
   "outputs": [
    {
     "name": "stdout",
     "output_type": "stream",
     "text": [
      "(367, 5)\n"
     ]
    },
    {
     "data": {
      "text/html": [
       "<div>\n",
       "<style scoped>\n",
       "    .dataframe tbody tr th:only-of-type {\n",
       "        vertical-align: middle;\n",
       "    }\n",
       "\n",
       "    .dataframe tbody tr th {\n",
       "        vertical-align: top;\n",
       "    }\n",
       "\n",
       "    .dataframe thead th {\n",
       "        text-align: right;\n",
       "    }\n",
       "</style>\n",
       "<table border=\"1\" class=\"dataframe\">\n",
       "  <thead>\n",
       "    <tr style=\"text-align: right;\">\n",
       "      <th></th>\n",
       "      <th>file</th>\n",
       "      <th>unique words</th>\n",
       "      <th>pages</th>\n",
       "      <th>words</th>\n",
       "      <th>chars</th>\n",
       "    </tr>\n",
       "  </thead>\n",
       "  <tbody>\n",
       "    <tr>\n",
       "      <th>0</th>\n",
       "      <td>0068ed0b40cca6270f857d2614cc63c0_besluit.pdf</td>\n",
       "      <td>658</td>\n",
       "      <td>3</td>\n",
       "      <td>3144</td>\n",
       "      <td>9746</td>\n",
       "    </tr>\n",
       "    <tr>\n",
       "      <th>1</th>\n",
       "      <td>0068ed0b40cca6270f857d2614cc63c0_document.pdf</td>\n",
       "      <td>159</td>\n",
       "      <td>1</td>\n",
       "      <td>526</td>\n",
       "      <td>1880</td>\n",
       "    </tr>\n",
       "    <tr>\n",
       "      <th>2</th>\n",
       "      <td>0272cdb141e62321341591f0959794a2_derde-deelbes...</td>\n",
       "      <td>191</td>\n",
       "      <td>11</td>\n",
       "      <td>320</td>\n",
       "      <td>3088</td>\n",
       "    </tr>\n",
       "    <tr>\n",
       "      <th>3</th>\n",
       "      <td>0272cdb141e62321341591f0959794a2_inventarislij...</td>\n",
       "      <td>699</td>\n",
       "      <td>3</td>\n",
       "      <td>2240</td>\n",
       "      <td>17242</td>\n",
       "    </tr>\n",
       "    <tr>\n",
       "      <th>4</th>\n",
       "      <td>0272cdb141e62321341591f0959794a2_wob-documente...</td>\n",
       "      <td>8</td>\n",
       "      <td>1449</td>\n",
       "      <td>1932</td>\n",
       "      <td>5806</td>\n",
       "    </tr>\n",
       "    <tr>\n",
       "      <th>...</th>\n",
       "      <td>...</td>\n",
       "      <td>...</td>\n",
       "      <td>...</td>\n",
       "      <td>...</td>\n",
       "      <td>...</td>\n",
       "    </tr>\n",
       "    <tr>\n",
       "      <th>362</th>\n",
       "      <td>fc406f9a1e19428a996ca187ab93b4a2_deels-openbar...</td>\n",
       "      <td>16308</td>\n",
       "      <td>767</td>\n",
       "      <td>106530</td>\n",
       "      <td>545506</td>\n",
       "    </tr>\n",
       "    <tr>\n",
       "      <th>363</th>\n",
       "      <td>fc406f9a1e19428a996ca187ab93b4a2_inventarislij...</td>\n",
       "      <td>2289</td>\n",
       "      <td>6</td>\n",
       "      <td>14096</td>\n",
       "      <td>69907</td>\n",
       "    </tr>\n",
       "    <tr>\n",
       "      <th>364</th>\n",
       "      <td>ff9481e357a59c506fc16db2aab2411a_besluit.pdf</td>\n",
       "      <td>967</td>\n",
       "      <td>5</td>\n",
       "      <td>2932</td>\n",
       "      <td>13513</td>\n",
       "    </tr>\n",
       "    <tr>\n",
       "      <th>365</th>\n",
       "      <td>ff9481e357a59c506fc16db2aab2411a_documenten.pdf</td>\n",
       "      <td>5</td>\n",
       "      <td>72</td>\n",
       "      <td>187</td>\n",
       "      <td>561</td>\n",
       "    </tr>\n",
       "    <tr>\n",
       "      <th>366</th>\n",
       "      <td>ff9481e357a59c506fc16db2aab2411a_inventarislij...</td>\n",
       "      <td>110</td>\n",
       "      <td>1</td>\n",
       "      <td>169</td>\n",
       "      <td>1446</td>\n",
       "    </tr>\n",
       "  </tbody>\n",
       "</table>\n",
       "<p>367 rows × 5 columns</p>\n",
       "</div>"
      ],
      "text/plain": [
       "                                                  file  unique words  pages  \\\n",
       "0         0068ed0b40cca6270f857d2614cc63c0_besluit.pdf           658      3   \n",
       "1        0068ed0b40cca6270f857d2614cc63c0_document.pdf           159      1   \n",
       "2    0272cdb141e62321341591f0959794a2_derde-deelbes...           191     11   \n",
       "3    0272cdb141e62321341591f0959794a2_inventarislij...           699      3   \n",
       "4    0272cdb141e62321341591f0959794a2_wob-documente...             8   1449   \n",
       "..                                                 ...           ...    ...   \n",
       "362  fc406f9a1e19428a996ca187ab93b4a2_deels-openbar...         16308    767   \n",
       "363  fc406f9a1e19428a996ca187ab93b4a2_inventarislij...          2289      6   \n",
       "364       ff9481e357a59c506fc16db2aab2411a_besluit.pdf           967      5   \n",
       "365    ff9481e357a59c506fc16db2aab2411a_documenten.pdf             5     72   \n",
       "366  ff9481e357a59c506fc16db2aab2411a_inventarislij...           110      1   \n",
       "\n",
       "      words   chars  \n",
       "0      3144    9746  \n",
       "1       526    1880  \n",
       "2       320    3088  \n",
       "3      2240   17242  \n",
       "4      1932    5806  \n",
       "..      ...     ...  \n",
       "362  106530  545506  \n",
       "363   14096   69907  \n",
       "364    2932   13513  \n",
       "365     187     561  \n",
       "366     169    1446  \n",
       "\n",
       "[367 rows x 5 columns]"
      ]
     },
     "execution_count": 18,
     "metadata": {},
     "output_type": "execute_result"
    }
   ],
   "source": [
    "data = {\n",
    "    'file' : files.keys(),\n",
    "    'unique words' : [files[x]['unique'] for x in files],\n",
    "    'pages' : [files[x]['pages'] for x in files],\n",
    "    'words' : [files[x]['words'] for x in files],\n",
    "    'chars' : [files[x]['chars'] for x in files]\n",
    "}\n",
    "\n",
    "df = pd.DataFrame.from_dict(data)\n",
    "print(df.shape)\n",
    "\n",
    "dfClean = df\n",
    "dfClean"
   ]
  },
  {
   "cell_type": "code",
   "execution_count": 38,
   "id": "addressed-worker",
   "metadata": {},
   "outputs": [
    {
     "data": {
      "text/plain": [
       "Text(0.5, 1.0, 'Number of words')"
      ]
     },
     "execution_count": 38,
     "metadata": {},
     "output_type": "execute_result"
    },
    {
     "data": {
      "image/png": "[encoded data removed]",
      "text/plain": [
       "<Figure size 1080x576 with 1 Axes>"
      ]
     },
     "metadata": {},
     "output_type": "display_data"
    }
   ],
   "source": [
    "sns.histplot(dfClean['words'], log_scale=(False, True)).set_title('Number of words')"
   ]
  },
  {
   "cell_type": "code",
   "execution_count": 39,
   "id": "qualified-fighter",
   "metadata": {},
   "outputs": [
    {
     "data": {
      "text/plain": [
       "Text(0.5, 1.0, 'Number of unique words')"
      ]
     },
     "execution_count": 39,
     "metadata": {},
     "output_type": "execute_result"
    },
    {
     "data": {
      "image/png": "[encoded data removed]",
      "text/plain": [
       "<Figure size 1080x576 with 1 Axes>"
      ]
     },
     "metadata": {},
     "output_type": "display_data"
    }
   ],
   "source": [
    "sns.histplot(dfClean['unique words'], log_scale=(False, True)).set_title('Number of unique words')"
   ]
  },
  {
   "cell_type": "code",
   "execution_count": 40,
   "id": "complex-cosmetic",
   "metadata": {},
   "outputs": [
    {
     "data": {
      "text/plain": [
       "Text(0.5, 1.0, 'Number of pages')"
      ]
     },
     "execution_count": 40,
     "metadata": {},
     "output_type": "execute_result"
    },
    {
     "data": {
      "image/png": "[encoded data removed]",
      "text/plain": [
       "<Figure size 1080x576 with 1 Axes>"
      ]
     },
     "metadata": {},
     "output_type": "display_data"
    }
   ],
   "source": [
    "sns.histplot(dfClean['pages'], log_scale=(False, True)).set_title('Number of pages')"
   ]
  },
  {
   "cell_type": "code",
   "execution_count": 41,
   "id": "straight-potential",
   "metadata": {},
   "outputs": [
    {
     "data": {
      "text/plain": [
       "Text(0.5, 1.0, 'Number of characters')"
      ]
     },
     "execution_count": 41,
     "metadata": {},
     "output_type": "execute_result"
    },
    {
     "data": {
      "image/png": "[encoded data removed]",
      "text/plain": [
       "<Figure size 1080x576 with 1 Axes>"
      ]
     },
     "metadata": {},
     "output_type": "display_data"
    }
   ],
   "source": [
    "sns.histplot(dfClean['chars'], log_scale=(False, True)).set_title('Number of characters')"
   ]
  },
  {
   "cell_type": "code",
   "execution_count": 19,
   "id": "exact-dependence",
   "metadata": {},
   "outputs": [
    {
     "data": {
      "text/html": [
       "<div>\n",
       "<style scoped>\n",
       "    .dataframe tbody tr th:only-of-type {\n",
       "        vertical-align: middle;\n",
       "    }\n",
       "\n",
       "    .dataframe tbody tr th {\n",
       "        vertical-align: top;\n",
       "    }\n",
       "\n",
       "    .dataframe thead th {\n",
       "        text-align: right;\n",
       "    }\n",
       "</style>\n",
       "<table border=\"1\" class=\"dataframe\">\n",
       "  <thead>\n",
       "    <tr style=\"text-align: right;\">\n",
       "      <th></th>\n",
       "      <th>unique words</th>\n",
       "      <th>pages</th>\n",
       "      <th>words</th>\n",
       "      <th>chars</th>\n",
       "    </tr>\n",
       "  </thead>\n",
       "  <tbody>\n",
       "    <tr>\n",
       "      <th>count</th>\n",
       "      <td>367.000000</td>\n",
       "      <td>367.000000</td>\n",
       "      <td>367.000000</td>\n",
       "      <td>367.000000</td>\n",
       "    </tr>\n",
       "    <tr>\n",
       "      <th>mean</th>\n",
       "      <td>832.335150</td>\n",
       "      <td>88.762943</td>\n",
       "      <td>5163.555858</td>\n",
       "      <td>24962.005450</td>\n",
       "    </tr>\n",
       "    <tr>\n",
       "      <th>std</th>\n",
       "      <td>2103.705731</td>\n",
       "      <td>320.733280</td>\n",
       "      <td>16377.130181</td>\n",
       "      <td>71322.847153</td>\n",
       "    </tr>\n",
       "    <tr>\n",
       "      <th>min</th>\n",
       "      <td>0.000000</td>\n",
       "      <td>0.000000</td>\n",
       "      <td>0.000000</td>\n",
       "      <td>0.000000</td>\n",
       "    </tr>\n",
       "    <tr>\n",
       "      <th>25%</th>\n",
       "      <td>1.000000</td>\n",
       "      <td>3.000000</td>\n",
       "      <td>0.000000</td>\n",
       "      <td>0.000000</td>\n",
       "    </tr>\n",
       "    <tr>\n",
       "      <th>50%</th>\n",
       "      <td>12.000000</td>\n",
       "      <td>12.000000</td>\n",
       "      <td>144.000000</td>\n",
       "      <td>989.000000</td>\n",
       "    </tr>\n",
       "    <tr>\n",
       "      <th>75%</th>\n",
       "      <td>687.000000</td>\n",
       "      <td>72.000000</td>\n",
       "      <td>2577.500000</td>\n",
       "      <td>13769.000000</td>\n",
       "    </tr>\n",
       "    <tr>\n",
       "      <th>max</th>\n",
       "      <td>16308.000000</td>\n",
       "      <td>4910.000000</td>\n",
       "      <td>133333.000000</td>\n",
       "      <td>545506.000000</td>\n",
       "    </tr>\n",
       "  </tbody>\n",
       "</table>\n",
       "</div>"
      ],
      "text/plain": [
       "       unique words        pages          words          chars\n",
       "count    367.000000   367.000000     367.000000     367.000000\n",
       "mean     832.335150    88.762943    5163.555858   24962.005450\n",
       "std     2103.705731   320.733280   16377.130181   71322.847153\n",
       "min        0.000000     0.000000       0.000000       0.000000\n",
       "25%        1.000000     3.000000       0.000000       0.000000\n",
       "50%       12.000000    12.000000     144.000000     989.000000\n",
       "75%      687.000000    72.000000    2577.500000   13769.000000\n",
       "max    16308.000000  4910.000000  133333.000000  545506.000000"
      ]
     },
     "execution_count": 19,
     "metadata": {},
     "output_type": "execute_result"
    }
   ],
   "source": [
    "dfClean.describe()"
   ]
  },
  {
   "cell_type": "code",
   "execution_count": 18,
   "id": "sunset-train",
   "metadata": {},
   "outputs": [
    {
     "data": {
      "text/plain": [
       "(39.23705722070845, 144, 26.975476839237057, 99)"
      ]
     },
     "execution_count": 18,
     "metadata": {},
     "output_type": "execute_result"
    }
   ],
   "source": [
    "nowords = ['_' for x in files if files[x]['words'] == 0]\n",
    "nochars = ['_' for x in files if files[x]['chars'] == 0]\n",
    "\n",
    "len(nowords) / len(files) * 100, len(nowords),len(nochars) / len(files) * 100, len(nochars)"
   ]
  },
  {
   "cell_type": "code",
   "execution_count": 11,
   "id": "ultimate-graduation",
   "metadata": {},
   "outputs": [
    {
     "data": {
      "text/html": [
       "<div>\n",
       "<style scoped>\n",
       "    .dataframe tbody tr th:only-of-type {\n",
       "        vertical-align: middle;\n",
       "    }\n",
       "\n",
       "    .dataframe tbody tr th {\n",
       "        vertical-align: top;\n",
       "    }\n",
       "\n",
       "    .dataframe thead th {\n",
       "        text-align: right;\n",
       "    }\n",
       "</style>\n",
       "<table border=\"1\" class=\"dataframe\">\n",
       "  <thead>\n",
       "    <tr style=\"text-align: right;\">\n",
       "      <th></th>\n",
       "      <th>full_name</th>\n",
       "      <th>name</th>\n",
       "      <th>page</th>\n",
       "      <th>text</th>\n",
       "    </tr>\n",
       "  </thead>\n",
       "  <tbody>\n",
       "    <tr>\n",
       "      <th>0</th>\n",
       "      <td>0068ed0b40cca6270f857d2614cc63c0_besluit-1.txt</td>\n",
       "      <td>0068ed0b40cca6270f857d2614cc63c0_besluit</td>\n",
       "      <td>1</td>\n",
       "      <td>Ministerie van Financiën\\n\\n \\n\\n&gt; Retouradres...</td>\n",
       "    </tr>\n",
       "    <tr>\n",
       "      <th>1</th>\n",
       "      <td>0068ed0b40cca6270f857d2614cc63c0_besluit-2.txt</td>\n",
       "      <td>0068ed0b40cca6270f857d2614cc63c0_besluit</td>\n",
       "      <td>2</td>\n",
       "      <td>Wettelijk kader\\n\\nUw verzoek om informatie is...</td>\n",
       "    </tr>\n",
       "    <tr>\n",
       "      <th>2</th>\n",
       "      <td>0068ed0b40cca6270f857d2614cc63c0_besluit-3.txt</td>\n",
       "      <td>0068ed0b40cca6270f857d2614cc63c0_besluit</td>\n",
       "      <td>3</td>\n",
       "      <td>BIJLAGE A\\nĳ ĳ Directie Juridische Zaken\\nArti...</td>\n",
       "    </tr>\n",
       "    <tr>\n",
       "      <th>3</th>\n",
       "      <td>0068ed0b40cca6270f857d2614cc63c0_document-1.txt</td>\n",
       "      <td>0068ed0b40cca6270f857d2614cc63c0_document</td>\n",
       "      <td>1</td>\n",
       "      <td>BIJLAGE B\\n\\nOverzicht agenda-afspraken Minist...</td>\n",
       "    </tr>\n",
       "    <tr>\n",
       "      <th>4</th>\n",
       "      <td>0272cdb141e62321341591f0959794a2_derde-deelbes...</td>\n",
       "      <td>0272cdb141e62321341591f0959794a2_derde-deelbes...</td>\n",
       "      <td>1</td>\n",
       "      <td>\\n\\n&gt; Retouradres Postbus 20301 2500 EH Den H...</td>\n",
       "    </tr>\n",
       "  </tbody>\n",
       "</table>\n",
       "</div>"
      ],
      "text/plain": [
       "                                           full_name  \\\n",
       "0     0068ed0b40cca6270f857d2614cc63c0_besluit-1.txt   \n",
       "1     0068ed0b40cca6270f857d2614cc63c0_besluit-2.txt   \n",
       "2     0068ed0b40cca6270f857d2614cc63c0_besluit-3.txt   \n",
       "3    0068ed0b40cca6270f857d2614cc63c0_document-1.txt   \n",
       "4  0272cdb141e62321341591f0959794a2_derde-deelbes...   \n",
       "\n",
       "                                                name  page  \\\n",
       "0           0068ed0b40cca6270f857d2614cc63c0_besluit     1   \n",
       "1           0068ed0b40cca6270f857d2614cc63c0_besluit     2   \n",
       "2           0068ed0b40cca6270f857d2614cc63c0_besluit     3   \n",
       "3          0068ed0b40cca6270f857d2614cc63c0_document     1   \n",
       "4  0272cdb141e62321341591f0959794a2_derde-deelbes...     1   \n",
       "\n",
       "                                                text  \n",
       "0  Ministerie van Financiën\\n\\n \\n\\n> Retouradres...  \n",
       "1  Wettelijk kader\\n\\nUw verzoek om informatie is...  \n",
       "2  BIJLAGE A\\nĳ ĳ Directie Juridische Zaken\\nArti...  \n",
       "3  BIJLAGE B\\n\\nOverzicht agenda-afspraken Minist...  \n",
       "4   \\n\\n> Retouradres Postbus 20301 2500 EH Den H...  "
      ]
     },
     "execution_count": 11,
     "metadata": {},
     "output_type": "execute_result"
    }
   ],
   "source": [
    "df = pd.read_csv('..\\\\data\\\\ocred\\\\files_df.csv', index_col = 0)\n",
    "df.head()"
   ]
  },
  {
   "cell_type": "code",
   "execution_count": 12,
   "id": "analyzed-glance",
   "metadata": {},
   "outputs": [],
   "source": [
    "docsUnique = df.name.unique()\n",
    "docs = {}\n",
    "for doc in docsUnique:\n",
    "    \n",
    "    pages = list(df[df.name == doc].text.values)\n",
    "    pages = [str(page) for page in pages]\n",
    "    text = ' '.join(pages)\n",
    "    \n",
    "    text = text.replace('\\n', ' ')\n",
    "    \n",
    "    docs[doc] = {}\n",
    "    docs[doc]['pages'] = len(pages) \n",
    "    docs[doc]['chars'] = len(text)\n",
    "    docs[doc]['words'] = len(text.split(' '))\n",
    "    docs[doc]['unique'] = len(set(text.split(' ')))\n"
   ]
  },
  {
   "cell_type": "code",
   "execution_count": 13,
   "id": "handy-lafayette",
   "metadata": {},
   "outputs": [
    {
     "data": {
      "text/html": [
       "<div>\n",
       "<style scoped>\n",
       "    .dataframe tbody tr th:only-of-type {\n",
       "        vertical-align: middle;\n",
       "    }\n",
       "\n",
       "    .dataframe tbody tr th {\n",
       "        vertical-align: top;\n",
       "    }\n",
       "\n",
       "    .dataframe thead th {\n",
       "        text-align: right;\n",
       "    }\n",
       "</style>\n",
       "<table border=\"1\" class=\"dataframe\">\n",
       "  <thead>\n",
       "    <tr style=\"text-align: right;\">\n",
       "      <th></th>\n",
       "      <th>file</th>\n",
       "      <th>pages</th>\n",
       "      <th>words</th>\n",
       "      <th>chars</th>\n",
       "      <th>unique words</th>\n",
       "    </tr>\n",
       "  </thead>\n",
       "  <tbody>\n",
       "    <tr>\n",
       "      <th>0</th>\n",
       "      <td>0068ed0b40cca6270f857d2614cc63c0_besluit</td>\n",
       "      <td>3</td>\n",
       "      <td>1172</td>\n",
       "      <td>7364</td>\n",
       "      <td>506</td>\n",
       "    </tr>\n",
       "    <tr>\n",
       "      <th>1</th>\n",
       "      <td>0068ed0b40cca6270f857d2614cc63c0_document</td>\n",
       "      <td>1</td>\n",
       "      <td>328</td>\n",
       "      <td>1498</td>\n",
       "      <td>89</td>\n",
       "    </tr>\n",
       "    <tr>\n",
       "      <th>2</th>\n",
       "      <td>0272cdb141e62321341591f0959794a2_derde-deelbes...</td>\n",
       "      <td>11</td>\n",
       "      <td>4909</td>\n",
       "      <td>31152</td>\n",
       "      <td>1264</td>\n",
       "    </tr>\n",
       "    <tr>\n",
       "      <th>3</th>\n",
       "      <td>0272cdb141e62321341591f0959794a2_inventarislijst</td>\n",
       "      <td>3</td>\n",
       "      <td>3171</td>\n",
       "      <td>17022</td>\n",
       "      <td>812</td>\n",
       "    </tr>\n",
       "    <tr>\n",
       "      <th>4</th>\n",
       "      <td>306d4b337a5d407eb00c8845884c82fd_rivm-maart-20...</td>\n",
       "      <td>4910</td>\n",
       "      <td>1200227</td>\n",
       "      <td>7213469</td>\n",
       "      <td>82415</td>\n",
       "    </tr>\n",
       "  </tbody>\n",
       "</table>\n",
       "</div>"
      ],
      "text/plain": [
       "                                                file  pages    words    chars  \\\n",
       "0           0068ed0b40cca6270f857d2614cc63c0_besluit      3     1172     7364   \n",
       "1          0068ed0b40cca6270f857d2614cc63c0_document      1      328     1498   \n",
       "2  0272cdb141e62321341591f0959794a2_derde-deelbes...     11     4909    31152   \n",
       "3   0272cdb141e62321341591f0959794a2_inventarislijst      3     3171    17022   \n",
       "4  306d4b337a5d407eb00c8845884c82fd_rivm-maart-20...   4910  1200227  7213469   \n",
       "\n",
       "   unique words  \n",
       "0           506  \n",
       "1            89  \n",
       "2          1264  \n",
       "3           812  \n",
       "4         82415  "
      ]
     },
     "execution_count": 13,
     "metadata": {},
     "output_type": "execute_result"
    }
   ],
   "source": [
    "data = {\n",
    "    'file' : docs.keys(),\n",
    "    'pages' : [docs[x]['pages'] for x in docs],\n",
    "    'words' : [docs[x]['words'] for x in docs],\n",
    "    'chars' : [docs[x]['chars'] for x in docs],\n",
    "    'unique words' : [docs[x]['unique'] for x in docs]\n",
    "}\n",
    "\n",
    "df2 = pd.DataFrame.from_dict(data)\n",
    "df2.head()"
   ]
  },
  {
   "cell_type": "code",
   "execution_count": 14,
   "id": "administrative-cornwall",
   "metadata": {},
   "outputs": [
    {
     "data": {
      "text/html": [
       "<div>\n",
       "<style scoped>\n",
       "    .dataframe tbody tr th:only-of-type {\n",
       "        vertical-align: middle;\n",
       "    }\n",
       "\n",
       "    .dataframe tbody tr th {\n",
       "        vertical-align: top;\n",
       "    }\n",
       "\n",
       "    .dataframe thead th {\n",
       "        text-align: right;\n",
       "    }\n",
       "</style>\n",
       "<table border=\"1\" class=\"dataframe\">\n",
       "  <thead>\n",
       "    <tr style=\"text-align: right;\">\n",
       "      <th></th>\n",
       "      <th>pages</th>\n",
       "      <th>words</th>\n",
       "      <th>chars</th>\n",
       "      <th>unique words</th>\n",
       "    </tr>\n",
       "  </thead>\n",
       "  <tbody>\n",
       "    <tr>\n",
       "      <th>count</th>\n",
       "      <td>367.00000</td>\n",
       "      <td>367.00000</td>\n",
       "      <td>367.00000</td>\n",
       "      <td>367.00000</td>\n",
       "    </tr>\n",
       "    <tr>\n",
       "      <th>mean</th>\n",
       "      <td>94.55586</td>\n",
       "      <td>26355.09537</td>\n",
       "      <td>153460.92098</td>\n",
       "      <td>3843.98093</td>\n",
       "    </tr>\n",
       "    <tr>\n",
       "      <th>std</th>\n",
       "      <td>320.65422</td>\n",
       "      <td>88428.24206</td>\n",
       "      <td>528658.20895</td>\n",
       "      <td>6793.86314</td>\n",
       "    </tr>\n",
       "    <tr>\n",
       "      <th>min</th>\n",
       "      <td>1.00000</td>\n",
       "      <td>131.00000</td>\n",
       "      <td>615.00000</td>\n",
       "      <td>53.00000</td>\n",
       "    </tr>\n",
       "    <tr>\n",
       "      <th>25%</th>\n",
       "      <td>5.00000</td>\n",
       "      <td>2075.00000</td>\n",
       "      <td>12933.00000</td>\n",
       "      <td>701.00000</td>\n",
       "    </tr>\n",
       "    <tr>\n",
       "      <th>50%</th>\n",
       "      <td>17.00000</td>\n",
       "      <td>5758.00000</td>\n",
       "      <td>33914.00000</td>\n",
       "      <td>1522.00000</td>\n",
       "    </tr>\n",
       "    <tr>\n",
       "      <th>75%</th>\n",
       "      <td>80.00000</td>\n",
       "      <td>21753.50000</td>\n",
       "      <td>117794.00000</td>\n",
       "      <td>4896.50000</td>\n",
       "    </tr>\n",
       "    <tr>\n",
       "      <th>max</th>\n",
       "      <td>4910.00000</td>\n",
       "      <td>1200227.00000</td>\n",
       "      <td>7213469.00000</td>\n",
       "      <td>82415.00000</td>\n",
       "    </tr>\n",
       "  </tbody>\n",
       "</table>\n",
       "</div>"
      ],
      "text/plain": [
       "            pages          words          chars unique words\n",
       "count   367.00000      367.00000      367.00000    367.00000\n",
       "mean     94.55586    26355.09537   153460.92098   3843.98093\n",
       "std     320.65422    88428.24206   528658.20895   6793.86314\n",
       "min       1.00000      131.00000      615.00000     53.00000\n",
       "25%       5.00000     2075.00000    12933.00000    701.00000\n",
       "50%      17.00000     5758.00000    33914.00000   1522.00000\n",
       "75%      80.00000    21753.50000   117794.00000   4896.50000\n",
       "max    4910.00000  1200227.00000  7213469.00000  82415.00000"
      ]
     },
     "execution_count": 14,
     "metadata": {},
     "output_type": "execute_result"
    }
   ],
   "source": [
    "df2.describe().apply(lambda s: s.apply('{0:.5f}'.format))"
   ]
  },
  {
   "cell_type": "code",
   "execution_count": 26,
   "id": "official-zimbabwe",
   "metadata": {},
   "outputs": [
    {
     "data": {
      "text/plain": [
       "<matplotlib.axes._subplots.AxesSubplot at 0x1c4adc5c048>"
      ]
     },
     "execution_count": 26,
     "metadata": {},
     "output_type": "execute_result"
    },
    {
     "data": {
      "image/png": "[encoded data removed]",
      "text/plain": [
       "<Figure size 1080x576 with 1 Axes>"
      ]
     },
     "metadata": {},
     "output_type": "display_data"
    }
   ],
   "source": [
    "sns.set(rc = {'figure.figsize':(15,8)})\n",
    "\n",
    "sns.histplot(df2['words'], log_scale=(False, True))"
   ]
  },
  {
   "cell_type": "code",
   "execution_count": 27,
   "id": "addressed-vault",
   "metadata": {},
   "outputs": [
    {
     "data": {
      "text/plain": [
       "<matplotlib.axes._subplots.AxesSubplot at 0x1c4ae347780>"
      ]
     },
     "execution_count": 27,
     "metadata": {},
     "output_type": "execute_result"
    },
    {
     "data": {
      "image/png": "[encoded data removed]",
      "text/plain": [
       "<Figure size 1080x576 with 1 Axes>"
      ]
     },
     "metadata": {},
     "output_type": "display_data"
    }
   ],
   "source": [
    "sns.histplot(df2['pages'], log_scale=(False, True))"
   ]
  },
  {
   "cell_type": "code",
   "execution_count": 11,
   "id": "9ff9337d",
   "metadata": {},
   "outputs": [
    {
     "data": {
      "text/plain": [
       "(1045, 3008)"
      ]
     },
     "execution_count": 11,
     "metadata": {},
     "output_type": "execute_result"
    }
   ],
   "source": [
    "path = r'F:\\Data files\\Master thesis\\verzoeken\\\\'\n",
    "requests = 0\n",
    "files = 0\n",
    "\n",
    "for dir in os.listdir(path):\n",
    "    for request in os.listdir(path + dir):\n",
    "        if request == '.DS_Store':\n",
    "            continue\n",
    "        requests += 1\n",
    "        files += len(os.listdir(path+dir+'\\\\'+request))\n",
    "\n",
    "requests, files"
   ]
  },
  {
   "cell_type": "code",
   "execution_count": null,
   "id": "looking-pilot",
   "metadata": {},
   "outputs": [],
   "source": [
    "\n",
    "\n",
    "\n",
    "\n",
    "\n",
    "\n",
    "\n",
    "\n",
    "\n",
    "\n",
    "\n",
    "\n",
    "\n",
    "\n",
    "\n",
    "\n",
    "\n",
    "\n",
    "\n",
    "\n",
    "\n",
    "\n",
    "\n",
    "\n",
    "\n",
    "\n",
    "\n",
    "\n"
   ]
  },
  {
   "cell_type": "code",
   "execution_count": null,
   "id": "automotive-chambers",
   "metadata": {},
   "outputs": [],
   "source": []
  }
 ],
 "metadata": {
  "kernelspec": {
   "display_name": "Python 3.9.0 64-bit",
   "language": "python",
   "name": "python3"
  },
  "language_info": {
   "codemirror_mode": {
    "name": "ipython",
    "version": 3
   },
   "file_extension": ".py",
   "mimetype": "text/x-python",
   "name": "python",
   "nbconvert_exporter": "python",
   "pygments_lexer": "ipython3",
   "version": "3.9.0"
  },
  "vscode": {
   "interpreter": {
    "hash": "0826c092e7a36555626e841d0508686b74d54b11c575d1ce95f2ca83d0f405ea"
   }
  }
 },
 "nbformat": 4,
 "nbformat_minor": 5
}
